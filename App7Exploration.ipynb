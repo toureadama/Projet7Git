{
 "cells": [
  {
   "cell_type": "code",
   "execution_count": 2,
   "id": "57591ec1",
   "metadata": {},
   "outputs": [
    {
     "name": "stdout",
     "output_type": "stream",
     "text": [
      "^C\n",
      "\n",
      "Note: you may need to restart the kernel to use updated packages.\n"
     ]
    }
   ],
   "source": [
    "conda install -c conda-forge streamlit"
   ]
  },
  {
   "cell_type": "code",
   "execution_count": 3,
   "id": "469f3b85",
   "metadata": {},
   "outputs": [
    {
     "name": "stdout",
     "output_type": "stream",
     "text": [
      "Collecting streamlit\n",
      "  Downloading streamlit-1.7.0-py2.py3-none-any.whl (9.9 MB)\n",
      "Collecting validators\n",
      "  Using cached validators-0.18.2-py3-none-any.whl (19 kB)\n",
      "Requirement already satisfied: importlib-metadata>=1.4 in c:\\users\\toure\\anaconda3\\lib\\site-packages (from streamlit) (4.8.1)\n",
      "Requirement already satisfied: pillow>=6.2.0 in c:\\users\\toure\\anaconda3\\lib\\site-packages (from streamlit) (8.4.0)\n",
      "Collecting base58\n",
      "  Using cached base58-2.1.1-py3-none-any.whl (5.6 kB)\n",
      "Collecting astor\n",
      "  Using cached astor-0.8.1-py2.py3-none-any.whl (27 kB)\n",
      "Collecting tzlocal\n",
      "  Using cached tzlocal-4.1-py3-none-any.whl (19 kB)\n",
      "Collecting semver\n",
      "  Using cached semver-2.13.0-py2.py3-none-any.whl (12 kB)\n",
      "Requirement already satisfied: numpy in c:\\users\\toure\\anaconda3\\lib\\site-packages (from streamlit) (1.20.3)\n",
      "Requirement already satisfied: tornado>=5.0 in c:\\users\\toure\\anaconda3\\lib\\site-packages (from streamlit) (6.1)\n",
      "Collecting protobuf!=3.11,>=3.6.0\n",
      "  Using cached protobuf-3.19.4-cp39-cp39-win_amd64.whl (895 kB)\n",
      "Requirement already satisfied: attrs in c:\\users\\toure\\anaconda3\\lib\\site-packages (from streamlit) (21.2.0)\n",
      "Requirement already satisfied: toml in c:\\users\\toure\\anaconda3\\lib\\site-packages (from streamlit) (0.10.2)\n",
      "Collecting blinker\n",
      "  Using cached blinker-1.4-py3-none-any.whl\n",
      "Collecting altair>=3.2.0\n",
      "  Using cached altair-4.2.0-py3-none-any.whl (812 kB)\n",
      "Requirement already satisfied: requests in c:\\users\\toure\\anaconda3\\lib\\site-packages (from streamlit) (2.26.0)\n",
      "Collecting pyarrow\n",
      "  Using cached pyarrow-7.0.0-cp39-cp39-win_amd64.whl (16.1 MB)\n",
      "Collecting gitpython!=3.1.19\n",
      "  Using cached GitPython-3.1.27-py3-none-any.whl (181 kB)\n",
      "Requirement already satisfied: watchdog in c:\\users\\toure\\anaconda3\\lib\\site-packages (from streamlit) (2.1.3)\n",
      "Collecting pydeck>=0.1.dev5\n",
      "  Using cached pydeck-0.7.1-py2.py3-none-any.whl (4.3 MB)\n",
      "Requirement already satisfied: click>=7.0 in c:\\users\\toure\\anaconda3\\lib\\site-packages (from streamlit) (8.0.3)\n",
      "Collecting cachetools>=4.0\n",
      "  Using cached cachetools-5.0.0-py3-none-any.whl (9.1 kB)\n",
      "Requirement already satisfied: pandas>=0.21.0 in c:\\users\\toure\\anaconda3\\lib\\site-packages (from streamlit) (1.3.4)\n",
      "Requirement already satisfied: python-dateutil in c:\\users\\toure\\anaconda3\\lib\\site-packages (from streamlit) (2.8.2)\n",
      "Collecting pympler>=0.9\n",
      "  Using cached Pympler-1.0.1-py3-none-any.whl (164 kB)\n",
      "Requirement already satisfied: packaging in c:\\users\\toure\\anaconda3\\lib\\site-packages (from streamlit) (21.0)\n",
      "Requirement already satisfied: jsonschema>=3.0 in c:\\users\\toure\\anaconda3\\lib\\site-packages (from altair>=3.2.0->streamlit) (3.2.0)\n",
      "Requirement already satisfied: jinja2 in c:\\users\\toure\\anaconda3\\lib\\site-packages (from altair>=3.2.0->streamlit) (2.11.3)\n",
      "Requirement already satisfied: entrypoints in c:\\users\\toure\\anaconda3\\lib\\site-packages (from altair>=3.2.0->streamlit) (0.3)\n",
      "Requirement already satisfied: toolz in c:\\users\\toure\\anaconda3\\lib\\site-packages (from altair>=3.2.0->streamlit) (0.11.1)\n",
      "Requirement already satisfied: colorama in c:\\users\\toure\\anaconda3\\lib\\site-packages (from click>=7.0->streamlit) (0.4.4)\n",
      "Collecting gitdb<5,>=4.0.1\n",
      "  Using cached gitdb-4.0.9-py3-none-any.whl (63 kB)\n",
      "Collecting smmap<6,>=3.0.1\n",
      "  Using cached smmap-5.0.0-py3-none-any.whl (24 kB)\n",
      "Requirement already satisfied: zipp>=0.5 in c:\\users\\toure\\anaconda3\\lib\\site-packages (from importlib-metadata>=1.4->streamlit) (3.6.0)\n",
      "Requirement already satisfied: pyrsistent>=0.14.0 in c:\\users\\toure\\anaconda3\\lib\\site-packages (from jsonschema>=3.0->altair>=3.2.0->streamlit) (0.18.0)\n",
      "Requirement already satisfied: setuptools in c:\\users\\toure\\anaconda3\\lib\\site-packages (from jsonschema>=3.0->altair>=3.2.0->streamlit) (58.0.4)\n",
      "Requirement already satisfied: six>=1.11.0 in c:\\users\\toure\\anaconda3\\lib\\site-packages (from jsonschema>=3.0->altair>=3.2.0->streamlit) (1.16.0)\n",
      "Requirement already satisfied: pytz>=2017.3 in c:\\users\\toure\\anaconda3\\lib\\site-packages (from pandas>=0.21.0->streamlit) (2021.3)\n",
      "Requirement already satisfied: ipykernel>=5.1.2 in c:\\users\\toure\\anaconda3\\lib\\site-packages (from pydeck>=0.1.dev5->streamlit) (6.4.1)\n",
      "Requirement already satisfied: traitlets>=4.3.2 in c:\\users\\toure\\anaconda3\\lib\\site-packages (from pydeck>=0.1.dev5->streamlit) (5.1.0)\n",
      "Requirement already satisfied: ipywidgets>=7.0.0 in c:\\users\\toure\\anaconda3\\lib\\site-packages (from pydeck>=0.1.dev5->streamlit) (7.6.5)\n",
      "Requirement already satisfied: jupyter-client<8.0 in c:\\users\\toure\\anaconda3\\lib\\site-packages (from ipykernel>=5.1.2->pydeck>=0.1.dev5->streamlit) (6.1.12)\n",
      "Requirement already satisfied: matplotlib-inline<0.2.0,>=0.1.0 in c:\\users\\toure\\anaconda3\\lib\\site-packages (from ipykernel>=5.1.2->pydeck>=0.1.dev5->streamlit) (0.1.2)\n",
      "Requirement already satisfied: ipython-genutils in c:\\users\\toure\\anaconda3\\lib\\site-packages (from ipykernel>=5.1.2->pydeck>=0.1.dev5->streamlit) (0.2.0)\n",
      "Requirement already satisfied: debugpy<2.0,>=1.0.0 in c:\\users\\toure\\anaconda3\\lib\\site-packages (from ipykernel>=5.1.2->pydeck>=0.1.dev5->streamlit) (1.4.1)\n",
      "Requirement already satisfied: ipython<8.0,>=7.23.1 in c:\\users\\toure\\anaconda3\\lib\\site-packages (from ipykernel>=5.1.2->pydeck>=0.1.dev5->streamlit) (7.29.0)\n",
      "Requirement already satisfied: pygments in c:\\users\\toure\\anaconda3\\lib\\site-packages (from ipython<8.0,>=7.23.1->ipykernel>=5.1.2->pydeck>=0.1.dev5->streamlit) (2.10.0)\n",
      "Requirement already satisfied: pickleshare in c:\\users\\toure\\anaconda3\\lib\\site-packages (from ipython<8.0,>=7.23.1->ipykernel>=5.1.2->pydeck>=0.1.dev5->streamlit) (0.7.5)\n",
      "Requirement already satisfied: backcall in c:\\users\\toure\\anaconda3\\lib\\site-packages (from ipython<8.0,>=7.23.1->ipykernel>=5.1.2->pydeck>=0.1.dev5->streamlit) (0.2.0)\n",
      "Requirement already satisfied: prompt-toolkit!=3.0.0,!=3.0.1,<3.1.0,>=2.0.0 in c:\\users\\toure\\anaconda3\\lib\\site-packages (from ipython<8.0,>=7.23.1->ipykernel>=5.1.2->pydeck>=0.1.dev5->streamlit) (3.0.20)\n",
      "Requirement already satisfied: decorator in c:\\users\\toure\\anaconda3\\lib\\site-packages (from ipython<8.0,>=7.23.1->ipykernel>=5.1.2->pydeck>=0.1.dev5->streamlit) (5.1.0)\n",
      "Requirement already satisfied: jedi>=0.16 in c:\\users\\toure\\anaconda3\\lib\\site-packages (from ipython<8.0,>=7.23.1->ipykernel>=5.1.2->pydeck>=0.1.dev5->streamlit) (0.18.0)\n",
      "Requirement already satisfied: jupyterlab-widgets>=1.0.0 in c:\\users\\toure\\anaconda3\\lib\\site-packages (from ipywidgets>=7.0.0->pydeck>=0.1.dev5->streamlit) (1.0.0)\n",
      "Requirement already satisfied: nbformat>=4.2.0 in c:\\users\\toure\\anaconda3\\lib\\site-packages (from ipywidgets>=7.0.0->pydeck>=0.1.dev5->streamlit) (5.1.3)\n",
      "Requirement already satisfied: widgetsnbextension~=3.5.0 in c:\\users\\toure\\anaconda3\\lib\\site-packages (from ipywidgets>=7.0.0->pydeck>=0.1.dev5->streamlit) (3.5.1)\n",
      "Requirement already satisfied: parso<0.9.0,>=0.8.0 in c:\\users\\toure\\anaconda3\\lib\\site-packages (from jedi>=0.16->ipython<8.0,>=7.23.1->ipykernel>=5.1.2->pydeck>=0.1.dev5->streamlit) (0.8.2)\n",
      "Requirement already satisfied: MarkupSafe>=0.23 in c:\\users\\toure\\anaconda3\\lib\\site-packages (from jinja2->altair>=3.2.0->streamlit) (1.1.1)\n",
      "Requirement already satisfied: pyzmq>=13 in c:\\users\\toure\\anaconda3\\lib\\site-packages (from jupyter-client<8.0->ipykernel>=5.1.2->pydeck>=0.1.dev5->streamlit) (22.2.1)\n",
      "Requirement already satisfied: jupyter-core>=4.6.0 in c:\\users\\toure\\anaconda3\\lib\\site-packages (from jupyter-client<8.0->ipykernel>=5.1.2->pydeck>=0.1.dev5->streamlit) (4.8.1)\n",
      "Requirement already satisfied: pywin32>=1.0 in c:\\users\\toure\\anaconda3\\lib\\site-packages (from jupyter-core>=4.6.0->jupyter-client<8.0->ipykernel>=5.1.2->pydeck>=0.1.dev5->streamlit) (228)\n",
      "Requirement already satisfied: wcwidth in c:\\users\\toure\\anaconda3\\lib\\site-packages (from prompt-toolkit!=3.0.0,!=3.0.1,<3.1.0,>=2.0.0->ipython<8.0,>=7.23.1->ipykernel>=5.1.2->pydeck>=0.1.dev5->streamlit) (0.2.5)\n",
      "Requirement already satisfied: notebook>=4.4.1 in c:\\users\\toure\\anaconda3\\lib\\site-packages (from widgetsnbextension~=3.5.0->ipywidgets>=7.0.0->pydeck>=0.1.dev5->streamlit) (6.4.5)\n",
      "Requirement already satisfied: nbconvert in c:\\users\\toure\\anaconda3\\lib\\site-packages (from notebook>=4.4.1->widgetsnbextension~=3.5.0->ipywidgets>=7.0.0->pydeck>=0.1.dev5->streamlit) (6.1.0)\n",
      "Requirement already satisfied: argon2-cffi in c:\\users\\toure\\anaconda3\\lib\\site-packages (from notebook>=4.4.1->widgetsnbextension~=3.5.0->ipywidgets>=7.0.0->pydeck>=0.1.dev5->streamlit) (20.1.0)\n",
      "Requirement already satisfied: prometheus-client in c:\\users\\toure\\anaconda3\\lib\\site-packages (from notebook>=4.4.1->widgetsnbextension~=3.5.0->ipywidgets>=7.0.0->pydeck>=0.1.dev5->streamlit) (0.11.0)\n",
      "Requirement already satisfied: terminado>=0.8.3 in c:\\users\\toure\\anaconda3\\lib\\site-packages (from notebook>=4.4.1->widgetsnbextension~=3.5.0->ipywidgets>=7.0.0->pydeck>=0.1.dev5->streamlit) (0.9.4)\n",
      "Requirement already satisfied: Send2Trash>=1.5.0 in c:\\users\\toure\\anaconda3\\lib\\site-packages (from notebook>=4.4.1->widgetsnbextension~=3.5.0->ipywidgets>=7.0.0->pydeck>=0.1.dev5->streamlit) (1.8.0)\n",
      "Requirement already satisfied: pywinpty>=0.5 in c:\\users\\toure\\anaconda3\\lib\\site-packages (from terminado>=0.8.3->notebook>=4.4.1->widgetsnbextension~=3.5.0->ipywidgets>=7.0.0->pydeck>=0.1.dev5->streamlit) (0.5.7)\n",
      "Requirement already satisfied: cffi>=1.0.0 in c:\\users\\toure\\anaconda3\\lib\\site-packages (from argon2-cffi->notebook>=4.4.1->widgetsnbextension~=3.5.0->ipywidgets>=7.0.0->pydeck>=0.1.dev5->streamlit) (1.14.6)\n",
      "Requirement already satisfied: pycparser in c:\\users\\toure\\anaconda3\\lib\\site-packages (from cffi>=1.0.0->argon2-cffi->notebook>=4.4.1->widgetsnbextension~=3.5.0->ipywidgets>=7.0.0->pydeck>=0.1.dev5->streamlit) (2.20)\n",
      "Requirement already satisfied: bleach in c:\\users\\toure\\anaconda3\\lib\\site-packages (from nbconvert->notebook>=4.4.1->widgetsnbextension~=3.5.0->ipywidgets>=7.0.0->pydeck>=0.1.dev5->streamlit) (4.0.0)\n",
      "Requirement already satisfied: nbclient<0.6.0,>=0.5.0 in c:\\users\\toure\\anaconda3\\lib\\site-packages (from nbconvert->notebook>=4.4.1->widgetsnbextension~=3.5.0->ipywidgets>=7.0.0->pydeck>=0.1.dev5->streamlit) (0.5.3)\n",
      "Requirement already satisfied: mistune<2,>=0.8.1 in c:\\users\\toure\\anaconda3\\lib\\site-packages (from nbconvert->notebook>=4.4.1->widgetsnbextension~=3.5.0->ipywidgets>=7.0.0->pydeck>=0.1.dev5->streamlit) (0.8.4)\n",
      "Requirement already satisfied: testpath in c:\\users\\toure\\anaconda3\\lib\\site-packages (from nbconvert->notebook>=4.4.1->widgetsnbextension~=3.5.0->ipywidgets>=7.0.0->pydeck>=0.1.dev5->streamlit) (0.5.0)\n",
      "Requirement already satisfied: defusedxml in c:\\users\\toure\\anaconda3\\lib\\site-packages (from nbconvert->notebook>=4.4.1->widgetsnbextension~=3.5.0->ipywidgets>=7.0.0->pydeck>=0.1.dev5->streamlit) (0.7.1)\n",
      "Requirement already satisfied: jupyterlab-pygments in c:\\users\\toure\\anaconda3\\lib\\site-packages (from nbconvert->notebook>=4.4.1->widgetsnbextension~=3.5.0->ipywidgets>=7.0.0->pydeck>=0.1.dev5->streamlit) (0.1.2)\n",
      "Requirement already satisfied: pandocfilters>=1.4.1 in c:\\users\\toure\\anaconda3\\lib\\site-packages (from nbconvert->notebook>=4.4.1->widgetsnbextension~=3.5.0->ipywidgets>=7.0.0->pydeck>=0.1.dev5->streamlit) (1.4.3)\n",
      "Requirement already satisfied: nest-asyncio in c:\\users\\toure\\anaconda3\\lib\\site-packages (from nbclient<0.6.0,>=0.5.0->nbconvert->notebook>=4.4.1->widgetsnbextension~=3.5.0->ipywidgets>=7.0.0->pydeck>=0.1.dev5->streamlit) (1.5.1)\n",
      "Requirement already satisfied: async-generator in c:\\users\\toure\\anaconda3\\lib\\site-packages (from nbclient<0.6.0,>=0.5.0->nbconvert->notebook>=4.4.1->widgetsnbextension~=3.5.0->ipywidgets>=7.0.0->pydeck>=0.1.dev5->streamlit) (1.10)\n",
      "Requirement already satisfied: webencodings in c:\\users\\toure\\anaconda3\\lib\\site-packages (from bleach->nbconvert->notebook>=4.4.1->widgetsnbextension~=3.5.0->ipywidgets>=7.0.0->pydeck>=0.1.dev5->streamlit) (0.5.1)\n",
      "Requirement already satisfied: pyparsing>=2.0.2 in c:\\users\\toure\\anaconda3\\lib\\site-packages (from packaging->streamlit) (3.0.4)\n",
      "Requirement already satisfied: certifi>=2017.4.17 in c:\\users\\toure\\anaconda3\\lib\\site-packages (from requests->streamlit) (2021.10.8)\n",
      "Requirement already satisfied: urllib3<1.27,>=1.21.1 in c:\\users\\toure\\anaconda3\\lib\\site-packages (from requests->streamlit) (1.26.7)\n",
      "Requirement already satisfied: charset-normalizer~=2.0.0 in c:\\users\\toure\\anaconda3\\lib\\site-packages (from requests->streamlit) (2.0.4)\n",
      "Requirement already satisfied: idna<4,>=2.5 in c:\\users\\toure\\anaconda3\\lib\\site-packages (from requests->streamlit) (3.2)\n",
      "Collecting pytz-deprecation-shim\n",
      "  Using cached pytz_deprecation_shim-0.1.0.post0-py2.py3-none-any.whl (15 kB)\n",
      "Collecting tzdata\n",
      "  Using cached tzdata-2021.5-py2.py3-none-any.whl (339 kB)\n",
      "Installing collected packages: tzdata, smmap, pytz-deprecation-shim, gitdb, validators, tzlocal, semver, pympler, pydeck, pyarrow, protobuf, gitpython, cachetools, blinker, base58, astor, altair, streamlit\n",
      "Successfully installed altair-4.2.0 astor-0.8.1 base58-2.1.1 blinker-1.4 cachetools-5.0.0 gitdb-4.0.9 gitpython-3.1.27 protobuf-3.19.4 pyarrow-7.0.0 pydeck-0.7.1 pympler-1.0.1 pytz-deprecation-shim-0.1.0.post0 semver-2.13.0 smmap-5.0.0 streamlit-1.7.0 tzdata-2021.5 tzlocal-4.1 validators-0.18.2\n",
      "Note: you may need to restart the kernel to use updated packages.\n"
     ]
    }
   ],
   "source": [
    "pip install streamlit"
   ]
  },
  {
   "cell_type": "code",
   "execution_count": 4,
   "id": "7b16305a",
   "metadata": {},
   "outputs": [
    {
     "name": "stdout",
     "output_type": "stream",
     "text": [
      "Collecting lime\n",
      "  Using cached lime-0.2.0.1-py3-none-any.whl\n",
      "Requirement already satisfied: scikit-learn>=0.18 in c:\\users\\toure\\anaconda3\\lib\\site-packages (from lime) (0.24.2)\n",
      "Requirement already satisfied: numpy in c:\\users\\toure\\anaconda3\\lib\\site-packages (from lime) (1.20.3)\n",
      "Requirement already satisfied: tqdm in c:\\users\\toure\\anaconda3\\lib\\site-packages (from lime) (4.62.3)\n",
      "Requirement already satisfied: matplotlib in c:\\users\\toure\\anaconda3\\lib\\site-packages (from lime) (3.4.3)\n",
      "Requirement already satisfied: scikit-image>=0.12 in c:\\users\\toure\\anaconda3\\lib\\site-packages (from lime) (0.18.3)\n",
      "Requirement already satisfied: scipy in c:\\users\\toure\\anaconda3\\lib\\site-packages (from lime) (1.7.1)\n",
      "Requirement already satisfied: networkx>=2.0 in c:\\users\\toure\\anaconda3\\lib\\site-packages (from scikit-image>=0.12->lime) (2.6.3)\n",
      "Requirement already satisfied: pillow!=7.1.0,!=7.1.1,>=4.3.0 in c:\\users\\toure\\anaconda3\\lib\\site-packages (from scikit-image>=0.12->lime) (8.4.0)\n",
      "Requirement already satisfied: imageio>=2.3.0 in c:\\users\\toure\\anaconda3\\lib\\site-packages (from scikit-image>=0.12->lime) (2.9.0)\n",
      "Requirement already satisfied: tifffile>=2019.7.26 in c:\\users\\toure\\anaconda3\\lib\\site-packages (from scikit-image>=0.12->lime) (2021.7.2)\n",
      "Requirement already satisfied: PyWavelets>=1.1.1 in c:\\users\\toure\\anaconda3\\lib\\site-packages (from scikit-image>=0.12->lime) (1.1.1)\n",
      "Requirement already satisfied: pyparsing>=2.2.1 in c:\\users\\toure\\anaconda3\\lib\\site-packages (from matplotlib->lime) (3.0.4)\n",
      "Requirement already satisfied: python-dateutil>=2.7 in c:\\users\\toure\\anaconda3\\lib\\site-packages (from matplotlib->lime) (2.8.2)\n",
      "Requirement already satisfied: cycler>=0.10 in c:\\users\\toure\\anaconda3\\lib\\site-packages (from matplotlib->lime) (0.10.0)\n",
      "Requirement already satisfied: kiwisolver>=1.0.1 in c:\\users\\toure\\anaconda3\\lib\\site-packages (from matplotlib->lime) (1.3.1)\n",
      "Requirement already satisfied: six in c:\\users\\toure\\anaconda3\\lib\\site-packages (from cycler>=0.10->matplotlib->lime) (1.16.0)\n",
      "Requirement already satisfied: threadpoolctl>=2.0.0 in c:\\users\\toure\\anaconda3\\lib\\site-packages (from scikit-learn>=0.18->lime) (2.2.0)\n",
      "Requirement already satisfied: joblib>=0.11 in c:\\users\\toure\\anaconda3\\lib\\site-packages (from scikit-learn>=0.18->lime) (1.1.0)\n",
      "Requirement already satisfied: colorama in c:\\users\\toure\\anaconda3\\lib\\site-packages (from tqdm->lime) (0.4.4)\n",
      "Installing collected packages: lime\n",
      "Successfully installed lime-0.2.0.1\n",
      "Note: you may need to restart the kernel to use updated packages.\n"
     ]
    }
   ],
   "source": [
    "pip install lime"
   ]
  },
  {
   "cell_type": "code",
   "execution_count": null,
   "id": "95977e1f",
   "metadata": {},
   "outputs": [],
   "source": []
  }
 ],
 "metadata": {
  "kernelspec": {
   "display_name": "Python 3 (ipykernel)",
   "language": "python",
   "name": "python3"
  },
  "language_info": {
   "codemirror_mode": {
    "name": "ipython",
    "version": 3
   },
   "file_extension": ".py",
   "mimetype": "text/x-python",
   "name": "python",
   "nbconvert_exporter": "python",
   "pygments_lexer": "ipython3",
   "version": "3.9.7"
  }
 },
 "nbformat": 4,
 "nbformat_minor": 5
}
